{
  "nbformat": 4,
  "nbformat_minor": 0,
  "metadata": {
    "colab": {
      "provenance": [],
      "include_colab_link": true
    },
    "kernelspec": {
      "name": "python3",
      "display_name": "Python 3"
    },
    "language_info": {
      "name": "python"
    }
  },
  "cells": [
    {
      "cell_type": "markdown",
      "metadata": {
        "id": "view-in-github",
        "colab_type": "text"
      },
      "source": [
        "<a href=\"https://colab.research.google.com/github/SimoneFinessi/strutture-Dati/blob/main/FINESSI_SIMONE_Esercizi_in_preprazione_alla_verifica.ipynb\" target=\"_parent\"><img src=\"https://colab.research.google.com/assets/colab-badge.svg\" alt=\"Open In Colab\"/></a>"
      ]
    },
    {
      "cell_type": "markdown",
      "source": [
        "Prendere in considerazione l'elenco degli studenti della 3E: Avasiloae, Bernasconi, Cottone, D'Arienzo, Dipace, El Allami, Finessi, Fontana, Geremicca, Leone, Lotorto, Milella, Muhammad, Neri, Papes e Poliseno. Qui di seguito ci sono gli studenti che sono stati interrogati in Sistemi: Finessi, Fontana, Geremicca, Neri, Papes. Questi sono invece gli studenti che sono stati interrogati in Tecnologie: Cottone, D'Arienzo, Dipace, El Allami, Finessi, Fontana. Infine, questi sono gli studenti che sono stati interrogati in Informatica: Cottone, Fontana, Papes, Poliseno.\n",
        "\n",
        "Memorizzare queste informazioni in opportune strutture dati \n"
      ],
      "metadata": {
        "id": "CIoz-LH_JcaS"
      }
    },
    {
      "cell_type": "code",
      "source": [
        "e={\"Avasiloae\",\"Bernasconi\",\"Cottone\",\"D'Arienzo\",\"Dipace\",\"El Allami\",\"Finessi\",\"Fontana\",\"Geremicca\",\"Leone\",\"Lotorto\",\"Milella\",\"Muhammad\",\"Neri\", \"Papes\",\"Poliseno\"}\n",
        "Sistemi={\"Finessi\", \"Fontana\", \"Geremicca\", \"Neri\", \"Papes\"}\n",
        "Tecnologie={ \"Fontana\", \"Geremicca\", \"Neri\", \"Papes\"}\n",
        "#Tecnologie={\"Cottone\", \"D'Arienzo\", \"Dipace\", \"El Allami\", \"Finessi\", \"Fontana\"}\n",
        "Informatica={\"Cottone\", \"Fontana\", \"Papes\", \"Poliseno\"}"
      ],
      "metadata": {
        "id": "FcA6ciGINCNR"
      },
      "execution_count": null,
      "outputs": []
    },
    {
      "cell_type": "markdown",
      "source": [
        "Scrivere le istruzioni per avere le seguenti informazioni:\n",
        "\n",
        "1. Quali sono gli studenti che sono stati interrogati in almeno una materia?"
      ],
      "metadata": {
        "id": "swXPUzm6ND89"
      }
    },
    {
      "cell_type": "code",
      "source": [
        "print(Sistemi.union(Tecnologie,Informatica))"
      ],
      "metadata": {
        "id": "lPoeA6WCNQUb",
        "colab": {
          "base_uri": "https://localhost:8080/"
        },
        "outputId": "1e10182f-9b9e-4497-a107-b0502169020c"
      },
      "execution_count": null,
      "outputs": [
        {
          "output_type": "stream",
          "name": "stdout",
          "text": [
            "{'Geremicca', 'Papes', 'Neri', 'Dipace', 'El Allami', \"D'Arienzo\", 'Fontana', 'Cottone', 'Poliseno', 'Finessi'}\n",
            "{'Geremicca', 'Papes', 'Neri', 'Fontana', 'Finessi'}\n"
          ]
        }
      ]
    },
    {
      "cell_type": "markdown",
      "source": [
        "2. Quali sono gli studenti che sono stati interrogati in tutte e tre le materie?"
      ],
      "metadata": {
        "id": "hnB69eRMNQub"
      }
    },
    {
      "cell_type": "code",
      "source": [
        "print(Sistemi.intersection(Informatica,Tecnologie))\n"
      ],
      "metadata": {
        "id": "CHJF5HwxNRvN",
        "colab": {
          "base_uri": "https://localhost:8080/"
        },
        "outputId": "454d0668-caae-46df-d5c6-8c7def5f115c"
      },
      "execution_count": null,
      "outputs": [
        {
          "output_type": "stream",
          "name": "stdout",
          "text": [
            "{'Fontana'}\n"
          ]
        }
      ]
    },
    {
      "cell_type": "markdown",
      "source": [
        "3. Quali sono gli studenti che devono ancora essere interrogati in Informatica?"
      ],
      "metadata": {
        "id": "MJsxZy-tNSB0"
      }
    },
    {
      "cell_type": "code",
      "source": [
        "print(e.difference(Informatica))"
      ],
      "metadata": {
        "id": "Hl4LOAH8NVf1",
        "colab": {
          "base_uri": "https://localhost:8080/"
        },
        "outputId": "1139a371-9b84-4b74-d628-9de956e5d76b"
      },
      "execution_count": null,
      "outputs": [
        {
          "output_type": "stream",
          "name": "stdout",
          "text": [
            "{'Geremicca', 'Dipace', 'Neri', 'Muhammad', 'El Allami', 'Lotorto', 'Milella', \"D'Arienzo\", 'Bernasconi', 'Leone', 'Avasiloae', 'Finessi'}\n"
          ]
        }
      ]
    },
    {
      "cell_type": "markdown",
      "source": [
        "4. Quali sono gli studenti che non sono stati interrogati in nessuna materia?"
      ],
      "metadata": {
        "id": "ZaUPieRlNV_c"
      }
    },
    {
      "cell_type": "code",
      "source": [
        "print(e.difference(Sistemi,Informatica,Tecnologie))"
      ],
      "metadata": {
        "id": "joYYsQtaNZwt",
        "colab": {
          "base_uri": "https://localhost:8080/"
        },
        "outputId": "685e2820-678d-42a8-ad16-162a4c1372e2"
      },
      "execution_count": null,
      "outputs": [
        {
          "output_type": "stream",
          "name": "stdout",
          "text": [
            "{'Muhammad', 'Lotorto', 'Milella', 'Bernasconi', 'Leone', 'Avasiloae'}\n"
          ]
        }
      ]
    },
    {
      "cell_type": "markdown",
      "source": [
        "5. Quali sono gli studenti che sono stati interrogati in Informatica ma non in Tecnologie?"
      ],
      "metadata": {
        "id": "9HyaVoK0NaET"
      }
    },
    {
      "cell_type": "code",
      "source": [
        "print(Informatica.difference(Tecnologie))"
      ],
      "metadata": {
        "id": "PDVNMpQzNeUy",
        "colab": {
          "base_uri": "https://localhost:8080/"
        },
        "outputId": "003d7c53-41e8-42e9-8f35-d06d3e9e8ebf"
      },
      "execution_count": null,
      "outputs": [
        {
          "output_type": "stream",
          "name": "stdout",
          "text": [
            "{'Poliseno', 'Papes'}\n"
          ]
        }
      ]
    },
    {
      "cell_type": "markdown",
      "source": [
        "6. Gli studenti che sono stati interrogati in Sistemi sono stati anche (tutti) interrogati in Tecnologie? (cercare su internet...)"
      ],
      "metadata": {
        "id": "jYC1u7qzNe2L"
      }
    },
    {
      "cell_type": "code",
      "source": [
        "Sistemi.issubset(Tecnologie)"
      ],
      "metadata": {
        "id": "TCK9UZ2RNkZ7",
        "colab": {
          "base_uri": "https://localhost:8080/"
        },
        "outputId": "feb0ef30-248b-45b1-83fb-d362ecbe6756"
      },
      "execution_count": null,
      "outputs": [
        {
          "output_type": "execute_result",
          "data": {
            "text/plain": [
              "False"
            ]
          },
          "metadata": {},
          "execution_count": 35
        }
      ]
    },
    {
      "cell_type": "markdown",
      "source": [
        "Prendere in considerazione la seguente lista di dizionari, contenente una serie di clienti di un importante negozio di articoli per biciclette:\n",
        "\n"
      ],
      "metadata": {
        "id": "jNA3N49tNk6S"
      }
    },
    {
      "cell_type": "code",
      "source": [
        "clienti = [{'first_name': 'Debra',\n",
        "  'last_name': 'Burks',\n",
        "  'phone': None,\n",
        "  'email': 'debra.burks@yahoo.com',\n",
        "  'street': '9273 Thorne Ave. ',\n",
        "  'city': 'Orchard Park',\n",
        "  'state': 'NY',\n",
        "  'zip_code': '14127',\n",
        "  'total': 1900.00},\n",
        " {'first_name': 'Kasha',\n",
        "  'last_name': 'Todd',\n",
        "  'phone': None,\n",
        "  'email': 'kasha.todd@yahoo.com',\n",
        "  'street': '910 Vine Street ',\n",
        "  'city': 'Campbell',\n",
        "  'state': 'CA',\n",
        "  'zip_code': '95008',\n",
        "  'total': 900.00},\n",
        " {'first_name': 'Tameka',\n",
        "  'last_name': 'Fisher',\n",
        "  'phone': None,\n",
        "  'email': 'tameka.fisher@aol.com',\n",
        "  'street': '769C Honey Creek St. ',\n",
        "  'city': 'Redondo Beach',\n",
        "  'state': 'CA',\n",
        "  'zip_code': '90278',\n",
        "  'total': 90.00},\n",
        " {'first_name': 'Daryl',\n",
        "  'last_name': 'Spence',\n",
        "  'phone': None,\n",
        "  'email': 'daryl.spence@aol.com',\n",
        "  'street': '988 Pearl Lane ',\n",
        "  'city': 'Uniondale',\n",
        "  'state': 'NY',\n",
        "  'zip_code': '11553',\n",
        "  'total': 9030.00},\n",
        " {'first_name': 'Charolette',\n",
        "  'last_name': 'Rice',\n",
        "  'phone': '(916) 381-6003',\n",
        "  'email': 'charolette.rice@msn.com',\n",
        "  'street': '107 River Dr. ',\n",
        "  'city': 'Sacramento',\n",
        "  'state': 'CA',\n",
        "  'zip_code': '95820',\n",
        "  'total': 9008.00},\n",
        " {'first_name': 'Lyndsey',\n",
        "  'last_name': 'Bean',\n",
        "  'phone': None,\n",
        "  'email': 'lyndsey.bean@hotmail.com',\n",
        "  'street': '769 West Road ',\n",
        "  'city': 'Fairport',\n",
        "  'state': 'NY',\n",
        "  'zip_code': '14450',\n",
        "  'total': 2900.90},\n",
        " {'first_name': 'Latasha',\n",
        "  'last_name': 'Hays',\n",
        "  'phone': '(716) 986-3359',\n",
        "  'email': 'latasha.hays@hotmail.com',\n",
        "  'street': '7014 Manor Station Rd. ',\n",
        "  'city': 'Buffalo',\n",
        "  'state': 'NY',\n",
        "  'zip_code': '14215',\n",
        "  'total': 900.00},\n",
        " {'first_name': 'Jacquline',\n",
        "  'last_name': 'Duncan',\n",
        "  'phone': None,\n",
        "  'email': 'jacquline.duncan@yahoo.com',\n",
        "  'street': '15 Brown St. ',\n",
        "  'city': 'Jackson Heights',\n",
        "  'state': 'NY',\n",
        "  'zip_code': '11372',\n",
        "  'total': 900.00},\n",
        " {'first_name': 'Genoveva',\n",
        "  'last_name': 'Baldwin',\n",
        "  'phone': None,\n",
        "  'email': 'genoveva.baldwin@msn.com',\n",
        "  'street': '8550 Spruce Drive ',\n",
        "  'city': 'Port Washington',\n",
        "  'state': 'NY',\n",
        "  'zip_code': '11050',\n",
        "  'total': 9000.00},\n",
        " {'first_name': 'Pamelia',\n",
        "  'last_name': 'Newman',\n",
        "  'phone': None,\n",
        "  'email': 'pamelia.newman@gmail.com',\n",
        "  'street': '476 Chestnut Ave. ',\n",
        "  'city': 'Monroe',\n",
        "  'state': 'NY',\n",
        "  'zip_code': '10950',\n",
        "  'total': 90.90},\n",
        " {'first_name': 'Deshawn',\n",
        "  'last_name': 'Mendoza',\n",
        "  'phone': None,\n",
        "  'email': 'deshawn.mendoza@yahoo.com',\n",
        "  'street': '8790 Cobblestone Street ',\n",
        "  'city': 'Monsey',\n",
        "  'state': 'NY',\n",
        "  'zip_code': '10952',\n",
        "  'total': 90.00},\n",
        " {'first_name': 'Robby',\n",
        "  'last_name': 'Sykes',\n",
        "  'phone': '(516) 583-7761',\n",
        "  'email': 'robby.sykes@hotmail.com',\n",
        "  'street': '486 Rock Maple Street ',\n",
        "  'city': 'Hempstead',\n",
        "  'state': 'NY',\n",
        "  'zip_code': '11550',\n",
        "  'total': 100.00},\n",
        " {'first_name': 'Lashawn',\n",
        "  'last_name': 'Ortiz',\n",
        "  'phone': None,\n",
        "  'email': 'lashawn.ortiz@msn.com',\n",
        "  'street': '27 Washington Rd. ',\n",
        "  'city': 'Longview',\n",
        "  'state': 'TX',\n",
        "  'zip_code': '75604',\n",
        "  'total': 900.00},\n",
        " {'first_name': 'Garry',\n",
        "  'last_name': 'Espinoza',\n",
        "  'phone': None,\n",
        "  'email': 'garry.espinoza@hotmail.com',\n",
        "  'street': '7858 Rockaway Court ',\n",
        "  'city': 'Forney',\n",
        "  'state': 'TX',\n",
        "  'zip_code': '75126',\n",
        "  'total': 3900.00},\n",
        " {'first_name': 'Linnie',\n",
        "  'last_name': 'Branch',\n",
        "  'phone': None,\n",
        "  'email': 'linnie.branch@gmail.com',\n",
        "  'street': '314 South Columbia Ave. ',\n",
        "  'city': 'Plattsburgh',\n",
        "  'state': 'NY',\n",
        "  'zip_code': '12901',\n",
        "  'total': 90087.00},\n",
        " {'first_name': 'Emmitt',\n",
        "  'last_name': 'Sanchez',\n",
        "  'phone': '(212) 945-8823',\n",
        "  'email': 'emmitt.sanchez@hotmail.com',\n",
        "  'street': '461 Squaw Creek Road ',\n",
        "  'city': 'New York',\n",
        "  'state': 'NY',\n",
        "  'zip_code': '10002',\n",
        "  'total': 2900.00},\n",
        " {'first_name': 'Caren',\n",
        "  'last_name': 'Stephens',\n",
        "  'phone': None,\n",
        "  'email': 'caren.stephens@msn.com',\n",
        "  'street': '914 Brook St. ',\n",
        "  'city': 'Scarsdale',\n",
        "  'state': 'NY',\n",
        "  'zip_code': '10583',\n",
        "  'total': 900.00},\n",
        " {'first_name': 'Georgetta',\n",
        "  'last_name': 'Hardin',\n",
        "  'phone': None,\n",
        "  'email': 'georgetta.hardin@aol.com',\n",
        "  'street': '474 Chapel Dr. ',\n",
        "  'city': 'Canandaigua',\n",
        "  'state': 'NY',\n",
        "  'zip_code': '14424',\n",
        "  'total': 900.00},\n",
        " {'first_name': 'Lizzette',\n",
        "  'last_name': 'Stein',\n",
        "  'phone': None,\n",
        "  'email': 'lizzette.stein@yahoo.com',\n",
        "  'street': '19 Green Hill Lane ',\n",
        "  'city': 'Orchard Park',\n",
        "  'state': 'NY',\n",
        "  'zip_code': '14127',\n",
        "  'total': 9.00},\n",
        " {'first_name': 'Aleta',\n",
        "  'last_name': 'Shepard',\n",
        "  'phone': None,\n",
        "  'email': 'aleta.shepard@aol.com',\n",
        "  'street': '684 Howard St. ',\n",
        "  'city': 'Sugar Land',\n",
        "  'state': 'TX',\n",
        "  'zip_code': '77478',\n",
        "  'total': 999.00}]\n",
        "\n",
        "print(clienti)"
      ],
      "metadata": {
        "colab": {
          "base_uri": "https://localhost:8080/"
        },
        "id": "fuwHsPoCOSaa",
        "outputId": "9db1df20-28b2-4f4c-e1f7-afe8821104fe"
      },
      "execution_count": null,
      "outputs": [
        {
          "output_type": "stream",
          "name": "stdout",
          "text": [
            "[{'first_name': 'Debra', 'last_name': 'Burks', 'phone': None, 'email': 'debra.burks@yahoo.com', 'street': '9273 Thorne Ave. ', 'city': 'Orchard Park', 'state': 'NY', 'zip_code': '14127', 'total': 1900.0}, {'first_name': 'Kasha', 'last_name': 'Todd', 'phone': None, 'email': 'kasha.todd@yahoo.com', 'street': '910 Vine Street ', 'city': 'Campbell', 'state': 'CA', 'zip_code': '95008', 'total': 900.0}, {'first_name': 'Tameka', 'last_name': 'Fisher', 'phone': None, 'email': 'tameka.fisher@aol.com', 'street': '769C Honey Creek St. ', 'city': 'Redondo Beach', 'state': 'CA', 'zip_code': '90278', 'total': 90.0}, {'first_name': 'Daryl', 'last_name': 'Spence', 'phone': None, 'email': 'daryl.spence@aol.com', 'street': '988 Pearl Lane ', 'city': 'Uniondale', 'state': 'NY', 'zip_code': '11553', 'total': 9030.0}, {'first_name': 'Charolette', 'last_name': 'Rice', 'phone': '(916) 381-6003', 'email': 'charolette.rice@msn.com', 'street': '107 River Dr. ', 'city': 'Sacramento', 'state': 'CA', 'zip_code': '95820', 'total': 9008.0}, {'first_name': 'Lyndsey', 'last_name': 'Bean', 'phone': None, 'email': 'lyndsey.bean@hotmail.com', 'street': '769 West Road ', 'city': 'Fairport', 'state': 'NY', 'zip_code': '14450', 'total': 2900.9}, {'first_name': 'Latasha', 'last_name': 'Hays', 'phone': '(716) 986-3359', 'email': 'latasha.hays@hotmail.com', 'street': '7014 Manor Station Rd. ', 'city': 'Buffalo', 'state': 'NY', 'zip_code': '14215', 'total': 900.0}, {'first_name': 'Jacquline', 'last_name': 'Duncan', 'phone': None, 'email': 'jacquline.duncan@yahoo.com', 'street': '15 Brown St. ', 'city': 'Jackson Heights', 'state': 'NY', 'zip_code': '11372', 'total': 900.0}, {'first_name': 'Genoveva', 'last_name': 'Baldwin', 'phone': None, 'email': 'genoveva.baldwin@msn.com', 'street': '8550 Spruce Drive ', 'city': 'Port Washington', 'state': 'NY', 'zip_code': '11050', 'total': 9000.0}, {'first_name': 'Pamelia', 'last_name': 'Newman', 'phone': None, 'email': 'pamelia.newman@gmail.com', 'street': '476 Chestnut Ave. ', 'city': 'Monroe', 'state': 'NY', 'zip_code': '10950', 'total': 90.9}, {'first_name': 'Deshawn', 'last_name': 'Mendoza', 'phone': None, 'email': 'deshawn.mendoza@yahoo.com', 'street': '8790 Cobblestone Street ', 'city': 'Monsey', 'state': 'NY', 'zip_code': '10952', 'total': 90.0}, {'first_name': 'Robby', 'last_name': 'Sykes', 'phone': '(516) 583-7761', 'email': 'robby.sykes@hotmail.com', 'street': '486 Rock Maple Street ', 'city': 'Hempstead', 'state': 'NY', 'zip_code': '11550', 'total': 100.0}, {'first_name': 'Lashawn', 'last_name': 'Ortiz', 'phone': None, 'email': 'lashawn.ortiz@msn.com', 'street': '27 Washington Rd. ', 'city': 'Longview', 'state': 'TX', 'zip_code': '75604', 'total': 900.0}, {'first_name': 'Garry', 'last_name': 'Espinoza', 'phone': None, 'email': 'garry.espinoza@hotmail.com', 'street': '7858 Rockaway Court ', 'city': 'Forney', 'state': 'TX', 'zip_code': '75126', 'total': 3900.0}, {'first_name': 'Linnie', 'last_name': 'Branch', 'phone': None, 'email': 'linnie.branch@gmail.com', 'street': '314 South Columbia Ave. ', 'city': 'Plattsburgh', 'state': 'NY', 'zip_code': '12901', 'total': 90087.0}, {'first_name': 'Emmitt', 'last_name': 'Sanchez', 'phone': '(212) 945-8823', 'email': 'emmitt.sanchez@hotmail.com', 'street': '461 Squaw Creek Road ', 'city': 'New York', 'state': 'NY', 'zip_code': '10002', 'total': 2900.0}, {'first_name': 'Caren', 'last_name': 'Stephens', 'phone': None, 'email': 'caren.stephens@msn.com', 'street': '914 Brook St. ', 'city': 'Scarsdale', 'state': 'NY', 'zip_code': '10583', 'total': 900.0}, {'first_name': 'Georgetta', 'last_name': 'Hardin', 'phone': None, 'email': 'georgetta.hardin@aol.com', 'street': '474 Chapel Dr. ', 'city': 'Canandaigua', 'state': 'NY', 'zip_code': '14424', 'total': 900.0}, {'first_name': 'Lizzette', 'last_name': 'Stein', 'phone': None, 'email': 'lizzette.stein@yahoo.com', 'street': '19 Green Hill Lane ', 'city': 'Orchard Park', 'state': 'NY', 'zip_code': '14127', 'total': 9.0}, {'first_name': 'Aleta', 'last_name': 'Shepard', 'phone': None, 'email': 'aleta.shepard@aol.com', 'street': '684 Howard St. ', 'city': 'Sugar Land', 'state': 'TX', 'zip_code': '77478', 'total': 999.0}]\n"
          ]
        }
      ]
    },
    {
      "cell_type": "markdown",
      "source": [
        "1. visualizzare tutte le informazioni dei clienti che abitano in California"
      ],
      "metadata": {
        "id": "NcuT9BdAOl5Z"
      }
    },
    {
      "cell_type": "code",
      "source": [
        "for i in clienti:\n",
        "  if \"CA\" in i[\"state\"]:\n",
        "     print(i)"
      ],
      "metadata": {
        "id": "bIeh6kz-OrIP",
        "colab": {
          "base_uri": "https://localhost:8080/"
        },
        "outputId": "33f20f01-20d1-4aee-cb82-c0ef8d0d0283"
      },
      "execution_count": null,
      "outputs": [
        {
          "output_type": "stream",
          "name": "stdout",
          "text": [
            "{'first_name': 'Kasha', 'last_name': 'Todd', 'phone': None, 'email': 'kasha.todd@yahoo.com', 'street': '910 Vine Street ', 'city': 'Campbell', 'state': 'CA', 'zip_code': '95008', 'total': 900.0}\n",
            "{'first_name': 'Tameka', 'last_name': 'Fisher', 'phone': None, 'email': 'tameka.fisher@aol.com', 'street': '769C Honey Creek St. ', 'city': 'Redondo Beach', 'state': 'CA', 'zip_code': '90278', 'total': 90.0}\n",
            "{'first_name': 'Charolette', 'last_name': 'Rice', 'phone': '(916) 381-6003', 'email': 'charolette.rice@msn.com', 'street': '107 River Dr. ', 'city': 'Sacramento', 'state': 'CA', 'zip_code': '95820', 'total': 9008.0}\n"
          ]
        }
      ]
    },
    {
      "cell_type": "markdown",
      "source": [
        "2. visualizzare le informazioni di un cliente di cui si inserisce la mail"
      ],
      "metadata": {
        "id": "rgR0DZB_OrgA"
      }
    },
    {
      "cell_type": "code",
      "source": [
        "mail=input(\"inserisci un E-mail:\")\n",
        "for i in clienti:\n",
        "  if mail in i[\"email\"]:\n",
        "     print(i)"
      ],
      "metadata": {
        "id": "2-Nx0Hk7OyF8",
        "colab": {
          "base_uri": "https://localhost:8080/"
        },
        "outputId": "1b22673f-51d2-493a-dd68-afaed99a9304"
      },
      "execution_count": null,
      "outputs": [
        {
          "output_type": "stream",
          "name": "stdout",
          "text": [
            "inserisci un E-mail:aleta.shepard@aol.com\n",
            "{'first_name': 'Aleta', 'last_name': 'Shepard', 'phone': None, 'email': 'aleta.shepard@aol.com', 'street': '684 Howard St. ', 'city': 'Sugar Land', 'state': 'TX', 'zip_code': '77478', 'total': 999.0}\n"
          ]
        }
      ]
    },
    {
      "cell_type": "markdown",
      "source": [
        "3. contare il numero di clienti presenti "
      ],
      "metadata": {
        "id": "raOzr_dBOydf"
      }
    },
    {
      "cell_type": "code",
      "source": [
        "print(len(clienti))"
      ],
      "metadata": {
        "id": "K1rr_Y3VO0vP",
        "colab": {
          "base_uri": "https://localhost:8080/"
        },
        "outputId": "32b78736-2dd1-482a-d2af-38621a4b2d6c"
      },
      "execution_count": null,
      "outputs": [
        {
          "output_type": "stream",
          "name": "stdout",
          "text": [
            "20\n"
          ]
        }
      ]
    },
    {
      "cell_type": "markdown",
      "source": [
        "4. visualizzare il nome del cliente che ha speso di più"
      ],
      "metadata": {
        "id": "cVOvYV-IO1Kn"
      }
    },
    {
      "cell_type": "code",
      "source": [
        "lista=[i[\"total\"]for i in clienti]\n",
        "for i in clienti:\n",
        "  if max(lista) == i[\"total\"]:\n",
        "     print(i[\"first_name\"])"
      ],
      "metadata": {
        "id": "Vb_1KfF2QWk8",
        "colab": {
          "base_uri": "https://localhost:8080/"
        },
        "outputId": "55cb208e-263a-4ee5-cea4-de5d3fafdb79"
      },
      "execution_count": null,
      "outputs": [
        {
          "output_type": "stream",
          "name": "stdout",
          "text": [
            "[1900.0, 900.0, 90.0, 9030.0, 9008.0, 2900.9, 900.0, 900.0, 9000.0, 90.9, 90.0, 100.0, 900.0, 3900.0, 90087.0, 2900.0, 900.0, 900.0, 9.0, 999.0]\n",
            "Linnie\n"
          ]
        }
      ]
    },
    {
      "cell_type": "markdown",
      "source": [
        "5. visualizzare i clienti che hanno speso più di 2000 $"
      ],
      "metadata": {
        "id": "hXfHHRvxQW3f"
      }
    },
    {
      "cell_type": "code",
      "source": [
        "for i in clienti:\n",
        "  if i[\"total\"]>2000:\n",
        "     print(i[\"first_name\"])"
      ],
      "metadata": {
        "id": "Xn_lY9u-Qbmo",
        "colab": {
          "base_uri": "https://localhost:8080/"
        },
        "outputId": "9fdaeea1-1971-4b16-f7f2-13365b28c190"
      },
      "execution_count": null,
      "outputs": [
        {
          "output_type": "stream",
          "name": "stdout",
          "text": [
            "Daryl\n",
            "Charolette\n",
            "Lyndsey\n",
            "Genoveva\n",
            "Garry\n",
            "Linnie\n",
            "Emmitt\n"
          ]
        }
      ]
    },
    {
      "cell_type": "markdown",
      "source": [
        "6. visualizzare gli stati dei clienti che hanno speso più di 2000 $ senza ripetizioni"
      ],
      "metadata": {
        "id": "oL53wVJbQcLj"
      }
    },
    {
      "cell_type": "code",
      "source": [
        "x=set()\n",
        "for i in clienti:\n",
        "  if i[\"total\"]>2000:\n",
        "     x.add(i[\"state\"])\n",
        "print(x)"
      ],
      "metadata": {
        "id": "eZO7ttcAQyJ-",
        "colab": {
          "base_uri": "https://localhost:8080/"
        },
        "outputId": "560dc909-fcba-42c5-de43-8de15edf1538"
      },
      "execution_count": null,
      "outputs": [
        {
          "output_type": "stream",
          "name": "stdout",
          "text": [
            "{'CA', 'TX', 'NY'}\n"
          ]
        }
      ]
    },
    {
      "cell_type": "markdown",
      "source": [
        "Prendere in considerazione la lista nomi=['maria', 'stefano', 'anna', 'carlo'] e la lista cognomi = ['rossi', 'bianchi', 'verdi', 'neri']. Scrivere il codice per creare da queste due liste una lista di dizionari aventi come chiavi nome e cognome (google it...)"
      ],
      "metadata": {
        "id": "L7d8r8-GQyn4"
      }
    },
    {
      "cell_type": "code",
      "source": [
        "nomi=['maria', 'stefano', 'anna', 'carlo']\n",
        "cognomi = ['rossi', 'bianchi', 'verdi', 'neri']\n",
        "lista=[{\"nome\":nomi[i],\"cognome\":cognomi[i]} for i in range(len(nomi))]\n",
        "print(lista)"
      ],
      "metadata": {
        "id": "53QgMjSRRNWX",
        "colab": {
          "base_uri": "https://localhost:8080/"
        },
        "outputId": "120b4275-5a6e-43b4-e811-5a42df18a24d"
      },
      "execution_count": null,
      "outputs": [
        {
          "output_type": "stream",
          "name": "stdout",
          "text": [
            "[{'nome': 'maria', 'cognome': 'rossi'}, {'nome': 'stefano', 'cognome': 'bianchi'}, {'nome': 'anna', 'cognome': 'verdi'}, {'nome': 'carlo', 'cognome': 'neri'}]\n"
          ]
        }
      ]
    }
  ]
}